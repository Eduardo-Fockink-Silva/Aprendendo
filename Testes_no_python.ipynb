{
  "nbformat": 4,
  "nbformat_minor": 0,
  "metadata": {
    "colab": {
      "name": "Testes no python",
      "provenance": [],
      "authorship_tag": "ABX9TyPhA8Xh6PInnc3NBzRgEp9U",
      "include_colab_link": true
    },
    "kernelspec": {
      "name": "python3",
      "display_name": "Python 3"
    },
    "language_info": {
      "name": "python"
    }
  },
  "cells": [
    {
      "cell_type": "markdown",
      "metadata": {
        "id": "view-in-github",
        "colab_type": "text"
      },
      "source": [
        "<a href=\"https://colab.research.google.com/github/Eduardo-Fockink-Silva/Aprendendo/blob/main/Testes_no_python.ipynb\" target=\"_parent\"><img src=\"https://colab.research.google.com/assets/colab-badge.svg\" alt=\"Open In Colab\"/></a>"
      ]
    },
    {
      "cell_type": "code",
      "execution_count": null,
      "metadata": {
        "id": "AfLZWsB6tWCe"
      },
      "outputs": [],
      "source": [
        "print('alguma coisa')\n",
        "variavel = 10\n",
        "print(variavel)\n",
        "help\n"
      ]
    },
    {
      "cell_type": "code",
      "source": [
        "help()"
      ],
      "metadata": {
        "id": "fID1OXYwuB5-"
      },
      "execution_count": null,
      "outputs": []
    },
    {
      "cell_type": "code",
      "source": [
        "import pandas"
      ],
      "metadata": {
        "id": "Lmft8cppuPrh"
      },
      "execution_count": null,
      "outputs": []
    },
    {
      "cell_type": "code",
      "source": [
        "from typing_extensions import Concatenate\n",
        "import random\n",
        "palavras = 'Teclado', 'Monitor', 'Mouse'\n",
        "numero = 1\n",
        "print(palavras[numero])\n",
        "numero = random.randint(0,2)\n",
        "print(palavras[numero])\n",
        "numero = int(input('Digite um numero: '))\n",
        "print(palavras[numero])\n",
        "if numero == 1:\n",
        "  print('entrou no if')\n",
        "else:\n",
        "  print('o else tambem funcionou')\n",
        "outraspalavras = 'Gabinete', 'Projetor', 'Ar condicionado'\n",
        "palavras = palavras + outraspalavras\n",
        "print(palavras[3])\n",
        "for i in palavras:\n",
        "  print(i)\n"
      ],
      "metadata": {
        "colab": {
          "base_uri": "https://localhost:8080/"
        },
        "id": "NgL42QuDjbVl",
        "outputId": "228fb19d-6acd-41f2-8326-c700b71eb5d5"
      },
      "execution_count": 53,
      "outputs": [
        {
          "output_type": "stream",
          "name": "stdout",
          "text": [
            "Monitor\n",
            "Monitor\n",
            "Digite um numero: 2\n",
            "Mouse\n",
            "o else tambem funcionou\n",
            "Gabinete\n",
            "Teclado\n",
            "Monitor\n",
            "Mouse\n",
            "Gabinete\n",
            "Projetor\n",
            "Ar condicionado\n"
          ]
        }
      ]
    },
    {
      "cell_type": "code",
      "source": [
        "  import this"
      ],
      "metadata": {
        "colab": {
          "base_uri": "https://localhost:8080/"
        },
        "id": "_XRxI3d3uZcn",
        "outputId": "57e8a1c4-2d3b-4105-f2a4-0e1c2df7fb9f"
      },
      "execution_count": 54,
      "outputs": [
        {
          "output_type": "stream",
          "name": "stdout",
          "text": [
            "The Zen of Python, by Tim Peters\n",
            "\n",
            "Beautiful is better than ugly.\n",
            "Explicit is better than implicit.\n",
            "Simple is better than complex.\n",
            "Complex is better than complicated.\n",
            "Flat is better than nested.\n",
            "Sparse is better than dense.\n",
            "Readability counts.\n",
            "Special cases aren't special enough to break the rules.\n",
            "Although practicality beats purity.\n",
            "Errors should never pass silently.\n",
            "Unless explicitly silenced.\n",
            "In the face of ambiguity, refuse the temptation to guess.\n",
            "There should be one-- and preferably only one --obvious way to do it.\n",
            "Although that way may not be obvious at first unless you're Dutch.\n",
            "Now is better than never.\n",
            "Although never is often better than *right* now.\n",
            "If the implementation is hard to explain, it's a bad idea.\n",
            "If the implementation is easy to explain, it may be a good idea.\n",
            "Namespaces are one honking great idea -- let's do more of those!\n"
          ]
        }
      ]
    }
  ]
}